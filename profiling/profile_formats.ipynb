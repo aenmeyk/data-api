{
 "cells": [
  {
   "cell_type": "markdown",
   "metadata": {},
   "source": [
    "# Profile Formats\n",
    "\n",
    "Before running this test add COVID dataset into `duck.db` with\n",
    "\n",
    "```python\n",
    "python crawler/crawl_metadata.py --include 'covid19'\n",
    "python crawler/full_text_index.py\n",
    "```\n",
    "\n",
    "you might also want to remove the database to start from scratch `rm duck.db`. Then run the API with `make api`.\n",
    "\n",
    "### COVID dataset:\n",
    "\n",
    "- shape: ?\n",
    "- dataframe size: ?\n",
    "- S3 size: ?\n",
    "- DuckDB size: ?"
   ]
  },
  {
   "cell_type": "code",
   "execution_count": 8,
   "metadata": {},
   "outputs": [
    {
     "name": "stdout",
     "output_type": "stream",
     "text": [
      "JSON format: 30.86s\n",
      "CSV format: 9.28s\n",
      "Feather format: 0.55s\n",
      "Feather format (direct): 0.47s\n"
     ]
    }
   ],
   "source": [
    "import time\n",
    "import pandas as pd\n",
    "import requests\n",
    "\n",
    "url_wo_format = 'http://127.0.0.1:8000/v1/dataset/data/garden/owid/latest/covid/covid'\n",
    "\n",
    "t = time.time()\n",
    "r = requests.get(url_wo_format + '.json')\n",
    "assert r.ok\n",
    "print(f'JSON format: {time.time() - t:.2f}s')\n",
    "\n",
    "t = time.time()\n",
    "r = requests.get(url_wo_format + '.csv')\n",
    "assert r.ok\n",
    "print(f'CSV format: {time.time() - t:.2f}s')\n",
    "\n",
    "t = time.time()\n",
    "r = requests.get(url_wo_format + '.feather')\n",
    "assert r.ok\n",
    "print(f'Feather format: {time.time() - t:.2f}s')\n",
    "\n",
    "t = time.time()\n",
    "r = requests.get(url_wo_format + '.feather_direct')\n",
    "assert r.ok\n",
    "print(f'Feather format (direct): {time.time() - t:.2f}s')"
   ]
  },
  {
   "cell_type": "code",
   "execution_count": 9,
   "metadata": {},
   "outputs": [
    {
     "data": {
      "text/plain": [
       "Size in MB       69.274788\n",
       "Shape         (202415, 67)\n",
       "dtype: object"
      ]
     },
     "execution_count": 9,
     "metadata": {},
     "output_type": "execute_result"
    }
   ],
   "source": [
    "# dataset info\n",
    "df = pd.read_feather(url_wo_format + '.feather')\n",
    "pd.Series({\n",
    "    \"Size in MB\": df.memory_usage(deep=True).sum() / 1e6,\n",
    "    \"Shape\": df.shape,\n",
    "})"
   ]
  }
 ],
 "metadata": {
  "kernelspec": {
   "display_name": "Python 3.10.0 ('.venv': poetry)",
   "language": "python",
   "name": "python3"
  },
  "language_info": {
   "codemirror_mode": {
    "name": "ipython",
    "version": 3
   },
   "file_extension": ".py",
   "mimetype": "text/x-python",
   "name": "python",
   "nbconvert_exporter": "python",
   "pygments_lexer": "ipython3",
   "version": "3.10.0"
  },
  "orig_nbformat": 4,
  "vscode": {
   "interpreter": {
    "hash": "7cea4047479146d1310ae40921f620e4d325b759c497d12e215f27b54afd0461"
   }
  }
 },
 "nbformat": 4,
 "nbformat_minor": 2
}
