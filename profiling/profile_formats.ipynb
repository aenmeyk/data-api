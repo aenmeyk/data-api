{
 "cells": [
  {
   "cell_type": "markdown",
   "metadata": {},
   "source": [
    "# Profile Formats\n",
    "\n",
    "Before running this test add COVID dataset into `duck.db` with\n",
    "\n",
    "```python\n",
    "python crawler/crawl_metadata.py --include 'dataset_5220'\n",
    "python crawler/full_text_index.py\n",
    "```\n",
    "\n",
    "you might also want to remove the database to start from scratch `rm duck.db`. Then run the API with `make api`.\n",
    "\n",
    "### COVID dataset:\n",
    "\n",
    "- shape: (197042, 36)\n",
    "- dataframe size: 78 MB\n",
    "- S3 size: 11 MB\n",
    "- DuckDB size: ~24 MB"
   ]
  },
  {
   "cell_type": "code",
   "execution_count": 14,
   "metadata": {},
   "outputs": [
    {
     "name": "stdout",
     "output_type": "stream",
     "text": [
      "Feather format: 0.51s\n"
     ]
    }
   ],
   "source": [
    "import time\n",
    "import pandas as pd\n",
    "import requests\n",
    "\n",
    "url_wo_format = 'http://127.0.0.1:8000/v1/dataset/data/backport/owid/latest/dataset_5220_covid_19__johns_hopkins_university/dataset_5220_covid_19__johns_hopkins_university'\n",
    "\n",
    "t = time.time()\n",
    "r = requests.get(url_wo_format + '.json')\n",
    "assert r.ok\n",
    "print(f'JSON format: {time.time() - t:.2f}s')\n",
    "\n",
    "t = time.time()\n",
    "r = requests.get(url_wo_format + '.csv')\n",
    "assert r.ok\n",
    "print(f'CSV format: {time.time() - t:.2f}s')\n",
    "\n",
    "t = time.time()\n",
    "r = requests.get(url_wo_format + '.feather')\n",
    "assert r.ok\n",
    "print(f'Feather format: {time.time() - t:.2f}s')\n",
    "\n",
    "t = time.time()\n",
    "r = requests.get(url_wo_format + '.feather_direct')\n",
    "assert r.ok\n",
    "print(f'Feather format (direct): {time.time() - t:.2f}s')"
   ]
  },
  {
   "cell_type": "code",
   "execution_count": 16,
   "metadata": {},
   "outputs": [
    {
     "data": {
      "text/html": [
       "<pre style=\"white-space:pre;overflow-x:auto;line-height:normal;font-family:Menlo,'DejaVu Sans Mono',consolas,'Courier New',monospace\">\n",
       "Size in MB       <span style=\"color: #008080; text-decoration-color: #008080; font-weight: bold\">73.290722</span>\n",
       "Shape         <span style=\"font-weight: bold\">(</span><span style=\"color: #008080; text-decoration-color: #008080; font-weight: bold\">197042</span>, <span style=\"color: #008080; text-decoration-color: #008080; font-weight: bold\">36</span><span style=\"font-weight: bold\">)</span>\n",
       "dtype: object\n",
       "</pre>\n"
      ],
      "text/plain": [
       "\n",
       "Size in MB       \u001b[1;36m73.290722\u001b[0m\n",
       "Shape         \u001b[1m(\u001b[0m\u001b[1;36m197042\u001b[0m, \u001b[1;36m36\u001b[0m\u001b[1m)\u001b[0m\n",
       "dtype: object\n"
      ]
     },
     "metadata": {},
     "output_type": "display_data"
    }
   ],
   "source": [
    "# dataset info\n",
    "df = pd.read_feather(url_wo_format + '.feather')\n",
    "pd.Series({\n",
    "    \"Size in MB\": df.memory_usage(deep=True).sum() / 1e6,\n",
    "    \"Shape\": df.shape,\n",
    "})"
   ]
  }
 ],
 "metadata": {
  "kernelspec": {
   "display_name": "Python 3.10.0 ('.venv': poetry)",
   "language": "python",
   "name": "python3"
  },
  "language_info": {
   "codemirror_mode": {
    "name": "ipython",
    "version": 3
   },
   "file_extension": ".py",
   "mimetype": "text/x-python",
   "name": "python",
   "nbconvert_exporter": "python",
   "pygments_lexer": "ipython3",
   "version": "3.10.0"
  },
  "orig_nbformat": 4,
  "vscode": {
   "interpreter": {
    "hash": "7cea4047479146d1310ae40921f620e4d325b759c497d12e215f27b54afd0461"
   }
  }
 },
 "nbformat": 4,
 "nbformat_minor": 2
}
