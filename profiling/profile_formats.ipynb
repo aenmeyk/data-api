{
 "cells": [
  {
   "cell_type": "markdown",
   "metadata": {},
   "source": [
    "# Profile Formats\n",
    "\n",
    "Before running this test add COVID dataset into `duck.db` with\n",
    "\n",
    "```python\n",
    "python crawler/crawl_metadata.py --include 'dataset_5220'\n",
    "python crawler/full_text_index.py\n",
    "```\n",
    "\n",
    "you might also want to remove the database to start from scratch `rm duck.db`. Then run the API with `make api`.\n",
    "\n",
    "### COVID dataset:\n",
    "\n",
    "- shape: (197042, 36)\n",
    "- dataframe size: 78 MB\n",
    "- S3 size: 11 MB\n",
    "- DuckDB size: ~24 MB"
   ]
  },
  {
   "cell_type": "code",
   "execution_count": 1,
   "metadata": {},
   "outputs": [
    {
     "name": "stdout",
     "output_type": "stream",
     "text": [
      "JSON format: 15.94s\n",
      "CSV format: 4.80s\n",
      "Feather format: 0.41s\n",
      "Feather format (direct): 24.24s\n"
     ]
    }
   ],
   "source": [
    "import time\n",
    "import pandas as pd\n",
    "import requests\n",
    "\n",
    "url_wo_format = 'http://127.0.0.1:8000/v1/dataset/data/backport/owid/latest/dataset_5220_covid_19__johns_hopkins_university/dataset_5220_covid_19__johns_hopkins_university'\n",
    "\n",
    "t = time.time()\n",
    "r = requests.get(url_wo_format + '.json')\n",
    "assert r.ok\n",
    "print(f'JSON format: {time.time() - t:.2f}s')\n",
    "\n",
    "t = time.time()\n",
    "r = requests.get(url_wo_format + '.csv')\n",
    "assert r.ok\n",
    "print(f'CSV format: {time.time() - t:.2f}s')\n",
    "\n",
    "t = time.time()\n",
    "r = requests.get(url_wo_format + '.feather')\n",
    "assert r.ok\n",
    "print(f'Feather format: {time.time() - t:.2f}s')\n",
    "\n",
    "t = time.time()\n",
    "r = requests.get(url_wo_format + '.feather_direct')\n",
    "assert r.ok\n",
    "print(f'Feather format (direct): {time.time() - t:.2f}s')"
   ]
  },
  {
   "cell_type": "code",
   "execution_count": 2,
   "metadata": {},
   "outputs": [
    {
     "data": {
      "text/plain": [
       "Size in MB       73.290722\n",
       "Shape         (197042, 36)\n",
       "dtype: object"
      ]
     },
     "execution_count": 2,
     "metadata": {},
     "output_type": "execute_result"
    }
   ],
   "source": [
    "# dataset info\n",
    "df = pd.read_feather(url_wo_format + '.feather')\n",
    "pd.Series({\n",
    "    \"Size in MB\": df.memory_usage(deep=True).sum() / 1e6,\n",
    "    \"Shape\": df.shape,\n",
    "})"
   ]
  },
  {
   "cell_type": "code",
   "execution_count": null,
   "metadata": {},
   "outputs": [],
   "source": []
  }
 ],
 "metadata": {
  "kernelspec": {
   "display_name": "Python 3.10.0 ('.venv': poetry)",
   "language": "python",
   "name": "python3"
  },
  "language_info": {
   "codemirror_mode": {
    "name": "ipython",
    "version": 3
   },
   "file_extension": ".py",
   "mimetype": "text/x-python",
   "name": "python",
   "nbconvert_exporter": "python",
   "pygments_lexer": "ipython3",
   "version": "3.10.0"
  },
  "orig_nbformat": 4,
  "vscode": {
   "interpreter": {
    "hash": "7cea4047479146d1310ae40921f620e4d325b759c497d12e215f27b54afd0461"
   }
  }
 },
 "nbformat": 4,
 "nbformat_minor": 2
}
