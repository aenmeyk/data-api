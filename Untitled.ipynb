{
 "cells": [
  {
   "cell_type": "code",
   "execution_count": 1,
   "id": "00d29212-8b7f-418b-a4db-c1b1ab12b255",
   "metadata": {},
   "outputs": [],
   "source": [
    "import duckdb\n",
    "import pandas as pd"
   ]
  },
  {
   "cell_type": "code",
   "execution_count": 3,
   "id": "ad350cb2-89cf-4df1-9c29-2808bbbf58b5",
   "metadata": {},
   "outputs": [],
   "source": [
    "db = duckdb.connect(\"duck.db\", read_only=True)"
   ]
  },
  {
   "cell_type": "code",
   "execution_count": 6,
   "id": "893307df-41d6-483c-ae2a-559e52fb938a",
   "metadata": {},
   "outputs": [
    {
     "data": {
      "text/plain": [
       "---------------------\n",
       "-- Expression Tree --\n",
       "---------------------\n",
       "Subquery\n",
       "\n",
       "---------------------\n",
       "-- Result Columns  --\n",
       "---------------------\n",
       "- table (VARCHAR)\n",
       "- dataset (VARCHAR)\n",
       "- version (VARCHAR)\n",
       "- namespace (VARCHAR)\n",
       "- channel (VARCHAR)\n",
       "- checksum (VARCHAR)\n",
       "- dimensions (VARCHAR)\n",
       "- path (VARCHAR)\n",
       "- format (VARCHAR)\n",
       "- table_db_name (VARCHAR)\n",
       "- is_public (BOOLEAN)\n",
       "\n",
       "---------------------\n",
       "-- Result Preview  --\n",
       "---------------------\n",
       "table\tdataset\tversion\tnamespace\tchannel\tchecksum\tdimensions\tpath\tformat\ttable_db_name\tis_public\t\n",
       "VARCHAR\tVARCHAR\tVARCHAR\tVARCHAR\tVARCHAR\tVARCHAR\tVARCHAR\tVARCHAR\tVARCHAR\tVARCHAR\tBOOLEAN\t\n",
       "[ Rows: 10]\n",
       "dataset_1002_incidence_of_managerial_or_professional_jobs_and_collective_bargaining_by_gender__blau_and_kahn__2017\tdataset_1002_incidence_of_managerial_or_professional_jobs_and_collective_bargaining_by_gender__blau_and_kahn__2017\tNULL\towid\tbackport\t4cb1f737055eddfa717911338d7cf744\t[year, entity_name, entity_id, entity_code]\tbackport/owid/latest/dataset_1002_incidence_of_managerial_or_professional_jobs_and_collective_bargaining_by_gender__blau_and_kahn__2017/dataset_1002_incidence_of_managerial_or_professional_jobs_and_collective_bargaining_by_gender__blau_and_kahn__2017\tfeather\tbackport__owid__latest__dataset_1002_incidence_of_managerial_or_professional_jobs_and_collective_bargaining_by_gender__blau_and_kahn__2017__dataset_1002_incidence_of_managerial_or_professional_jobs_and_collective_bargaining_by_gender__blau_and_kahn__2017\tTrue\t\n",
       "dataset_1003_lowest_paying_occupations__percent_female__nwlc__2014\tdataset_1003_lowest_paying_occupations__percent_female__nwlc__2014\tNULL\towid\tbackport\t0d6c879ff0faea9f7f2b7cecc65fb4cc\t[year, entity_name, entity_id, entity_code]\tbackport/owid/latest/dataset_1003_lowest_paying_occupations__percent_female__nwlc__2014/dataset_1003_lowest_paying_occupations__percent_female__nwlc__2014\tfeather\tbackport__owid__latest__dataset_1003_lowest_paying_occupations__percent_female__nwlc__2014__dataset_1003_lowest_paying_occupations__percent_female__nwlc__2014\tTrue\t\n",
       "dataset_1014_water_withdrawals_and_consumption__aquastat\tdataset_1014_water_withdrawals_and_consumption__aquastat\tNULL\towid\tbackport\t180c3954650a1c0a0a04db538a64f11c\t[year, entity_name, entity_id, entity_code]\tbackport/owid/latest/dataset_1014_water_withdrawals_and_consumption__aquastat/dataset_1014_water_withdrawals_and_consumption__aquastat\tfeather\tbackport__owid__latest__dataset_1014_water_withdrawals_and_consumption__aquastat__dataset_1014_water_withdrawals_and_consumption__aquastat\tTrue\t\n",
       "dataset_1015_mobile_bank_accounts_by_region__gsma__2019\tdataset_1015_mobile_bank_accounts_by_region__gsma__2019\tNULL\towid\tbackport\t63f56dd13906d270536c5ba0db6961bf\t[year, entity_name, entity_id, entity_code]\tbackport/owid/latest/dataset_1015_mobile_bank_accounts_by_region__gsma__2019/dataset_1015_mobile_bank_accounts_by_region__gsma__2019\tfeather\tbackport__owid__latest__dataset_1015_mobile_bank_accounts_by_region__gsma__2019__dataset_1015_mobile_bank_accounts_by_region__gsma__2019\tTrue\t\n",
       "dataset_1016_eci_country_rankings__observatory_of_economic_complexity__2016__and_the_atlas_of_economic_complexity__2016\tdataset_1016_eci_country_rankings__observatory_of_economic_complexity__2016__and_the_atlas_of_economic_complexity__2016\tNULL\towid\tbackport\t71569a0962068b4d6c6f95e2d1dcc4d3\t[year, entity_name, entity_id, entity_code]\tbackport/owid/latest/dataset_1016_eci_country_rankings__observatory_of_economic_complexity__2016__and_the_atlas_of_economic_complexity__2016/dataset_1016_eci_country_rankings__observatory_of_economic_complexity__2016__and_the_atlas_of_economic_complexity__2016\tfeather\tbackport__owid__latest__dataset_1016_eci_country_rankings__observatory_of_economic_complexity__2016__and_the_atlas_of_economic_complexity__2016__dataset_1016_eci_country_rankings__observatory_of_economic_complexity__2016__and_the_atlas_of_economic_complexity__2016\tTrue\t\n",
       "dataset_1018_basic_reading_and_maths_skills__world_development_report__2018\tdataset_1018_basic_reading_and_maths_skills__world_development_report__2018\tNULL\towid\tbackport\ta45937002bb7efb36c251f51ae18172d\t[year, entity_name, entity_id, entity_code]\tbackport/owid/latest/dataset_1018_basic_reading_and_maths_skills__world_development_report__2018/dataset_1018_basic_reading_and_maths_skills__world_development_report__2018\tfeather\tbackport__owid__latest__dataset_1018_basic_reading_and_maths_skills__world_development_report__2018__dataset_1018_basic_reading_and_maths_skills__world_development_report__2018\tTrue\t\n",
       "dataset_1019_teaching_time_lost__world_development_report__2018\tdataset_1019_teaching_time_lost__world_development_report__2018\tNULL\towid\tbackport\taeb43ebbdd2ad1905ca10dc653c59798\t[year, entity_name, entity_id, entity_code]\tbackport/owid/latest/dataset_1019_teaching_time_lost__world_development_report__2018/dataset_1019_teaching_time_lost__world_development_report__2018\tfeather\tbackport__owid__latest__dataset_1019_teaching_time_lost__world_development_report__2018__dataset_1019_teaching_time_lost__world_development_report__2018\tTrue\t\n",
       "dataset_1020_global_freshwater_use_since_1900__igb\tdataset_1020_global_freshwater_use_since_1900__igb\tNULL\towid\tbackport\t84bf879ff16480a750920d860355410a\t[year, entity_name, entity_id, entity_code]\tbackport/owid/latest/dataset_1020_global_freshwater_use_since_1900__igb/dataset_1020_global_freshwater_use_since_1900__igb\tfeather\tbackport__owid__latest__dataset_1020_global_freshwater_use_since_1900__igb__dataset_1020_global_freshwater_use_since_1900__igb\tTrue\t\n",
       "dataset_1026_wealth_per_capita_by_component_by_country__world_bank__2017\tdataset_1026_wealth_per_capita_by_component_by_country__world_bank__2017\tNULL\towid\tbackport\t2d253a41463c0b501c32cd00ccfc7429\t[year, entity_name, entity_id, entity_code]\tbackport/owid/latest/dataset_1026_wealth_per_capita_by_component_by_country__world_bank__2017/dataset_1026_wealth_per_capita_by_component_by_country__world_bank__2017\tfeather\tbackport__owid__latest__dataset_1026_wealth_per_capita_by_component_by_country__world_bank__2017__dataset_1026_wealth_per_capita_by_component_by_country__world_bank__2017\tTrue\t\n",
       "dataset_1029_wealth_per_capita_by_component_for_various_country_groupings__world_bank__2017\tdataset_1029_wealth_per_capita_by_component_for_various_country_groupings__world_bank__2017\tNULL\towid\tbackport\t34f3ed77ca112174a28073324a5f88b0\t[year, entity_name, entity_id, entity_code]\tbackport/owid/latest/dataset_1029_wealth_per_capita_by_component_for_various_country_groupings__world_bank__2017/dataset_1029_wealth_per_capita_by_component_for_various_country_groupings__world_bank__2017\tfeather\tbackport__owid__latest__dataset_1029_wealth_per_capita_by_component_for_various_country_groupings__world_bank__2017__dataset_1029_wealth_per_capita_by_component_for_various_country_groupings__world_bank__2017\tTrue\t\n",
       "\n"
      ]
     },
     "execution_count": 6,
     "metadata": {},
     "output_type": "execute_result"
    }
   ],
   "source": [
    "db.query(\"select * from meta_tables\")"
   ]
  },
  {
   "cell_type": "code",
   "execution_count": null,
   "id": "be920c97-8355-4286-8225-6b006c3e140b",
   "metadata": {},
   "outputs": [],
   "source": []
  }
 ],
 "metadata": {
  "kernelspec": {
   "display_name": "Python 3 (ipykernel)",
   "language": "python",
   "name": "python3"
  },
  "language_info": {
   "codemirror_mode": {
    "name": "ipython",
    "version": 3
   },
   "file_extension": ".py",
   "mimetype": "text/x-python",
   "name": "python",
   "nbconvert_exporter": "python",
   "pygments_lexer": "ipython3",
   "version": "3.9.5"
  }
 },
 "nbformat": 4,
 "nbformat_minor": 5
}
